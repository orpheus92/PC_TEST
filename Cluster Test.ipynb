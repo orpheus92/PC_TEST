{
 "cells": [
  {
   "cell_type": "code",
   "execution_count": 22,
   "metadata": {},
   "outputs": [],
   "source": [
    "import csv\n",
    "import numpy as np\n",
    "from sklearn import manifold\n",
    "from sklearn.cluster import AgglomerativeClustering\n",
    "from time import time\n",
    "from sklearn.preprocessing import normalize\n",
    "from sklearn.preprocessing import MinMaxScaler\n",
    "import numpy as np\n",
    "from scipy import ndimage\n",
    "from matplotlib import pyplot as plt\n",
    "\n",
    "with open('data/simulations.csv') as f:\n",
    "        reader = csv.reader(f)\n",
    "        header = next(reader)\n",
    "        data = [[float(x) for x in row] for row in reader]\n",
    "        total = np.asarray(data)"
   ]
  },
  {
   "cell_type": "code",
   "execution_count": 23,
   "metadata": {},
   "outputs": [
    {
     "name": "stdout",
     "output_type": "stream",
     "text": [
      "average : 3.90s\n"
     ]
    }
   ],
   "source": [
    "scaler = MinMaxScaler()\n",
    "X = scaler.fit_transform(total)\n",
    "#unscaled = scaler.inverse_transform(scaled)\n",
    "\n",
    "#X = normalize(total,axis = 0)\n",
    "\n",
    "n_samples, n_features = X.shape\n",
    "c_num = 200\n",
    "\n",
    "#for linkage in ('ward', 'average', 'complete'):\n",
    "linkage = 'average'\n",
    "clustering = AgglomerativeClustering(linkage=linkage, n_clusters=c_num)\n",
    "t0 = time()\n",
    "clustering.fit(X)\n",
    "print(\"%s : %.2fs\" % (linkage, time() - t0))\n",
    "\n",
    "# for linkage in ('ward', 'average', 'complete'):\n",
    "#     clustering = AgglomerativeClustering(linkage=linkage, n_clusters=200)\n",
    "#     t0 = time()\n",
    "#     clustering.fit(X_red)\n",
    "#     clustering.fit(X)\n",
    "#     print(\"%s : %.2fs\" % (linkage, time() - t0))\n",
    "#     plot_clustering(X_red, X, clustering.labels_, \"%s linkage\" % linkage)\n"
   ]
  },
  {
   "cell_type": "code",
   "execution_count": 27,
   "metadata": {},
   "outputs": [],
   "source": [
    "# Compute Average and Points in each cluster\n",
    "total_C = []\n",
    "for i in range(c_num):\n",
    "    curX = X[clustering.labels_ == i]\n",
    "    r,c = curX.shape\n",
    "    avgX = np.mean(curX, axis=0)#.tolist()\n",
    "    avgX = np.reshape(avgX, (-1, len(avgX)))\n",
    "    #print avgX\n",
    "    un_avgx = scaler.inverse_transform(avgX).flatten()\n",
    "    #print un_avgx\n",
    "    \n",
    "    avglist = un_avgx.tolist()\n",
    "    \n",
    "    avglist.append(r)\n",
    "    total_C.append(avglist)"
   ]
  },
  {
   "cell_type": "code",
   "execution_count": 29,
   "metadata": {},
   "outputs": [],
   "source": [
    "with open('data/Agg_data_simn.csv', 'wb') as f:\n",
    "        writer = csv.writer(f)\n",
    "        header.append('count')\n",
    "        writer.writerow(header)\n",
    "        writer.writerows(total_C)"
   ]
  },
  {
   "cell_type": "code",
   "execution_count": null,
   "metadata": {},
   "outputs": [],
   "source": [
    "def plot_clustering(X_red, X, labels, title=None):\n",
    "    x_min, x_max = np.min(X_red, axis=0), np.max(X_red, axis=0)\n",
    "    X_red = (X_red - x_min) / (x_max - x_min)\n",
    "\n",
    "    plt.figure(figsize=(6, 4))\n",
    "    for i in range(X_red.shape[0]):\n",
    "        plt.text(X_red[i, 0], X_red[i, 1], '*',\n",
    "                 color=plt.cm.nipy_spectral(labels[i] / 200.),\n",
    "                 fontdict={'weight': 'bold', 'size': 9})\n",
    "    print plt.cm.nipy_spectral(labels[i] / 200.)\n",
    "    plt.xticks([])\n",
    "    plt.yticks([])\n",
    "    if title is not None:\n",
    "        plt.title(title, size=17)\n",
    "    plt.axis('off')\n",
    "    plt.tight_layout()"
   ]
  }
 ],
 "metadata": {
  "kernelspec": {
   "display_name": "Python 2",
   "language": "python",
   "name": "python2"
  },
  "language_info": {
   "codemirror_mode": {
    "name": "ipython",
    "version": 2
   },
   "file_extension": ".py",
   "mimetype": "text/x-python",
   "name": "python",
   "nbconvert_exporter": "python",
   "pygments_lexer": "ipython2",
   "version": "2.7.15"
  }
 },
 "nbformat": 4,
 "nbformat_minor": 2
}
