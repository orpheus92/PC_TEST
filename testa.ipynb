{
 "cells": [
  {
   "cell_type": "code",
   "execution_count": 38,
   "metadata": {},
   "outputs": [],
   "source": [
    "import csv\n",
    "import numpy as np\n",
    "from itertools import combinations\n",
    "total_bin = 50\n",
    "interp = 7\n",
    "import json"
   ]
  },
  {
   "cell_type": "code",
   "execution_count": 39,
   "metadata": {},
   "outputs": [],
   "source": [
    "with open('data/simulations.csv') as f:\n",
    "        reader = csv.reader(f)\n",
    "        header = next(reader)\n",
    "        data = [[float(x) for x in row] for row in reader]\n",
    "        total = np.asarray(data)"
   ]
  },
  {
   "cell_type": "code",
   "execution_count": 40,
   "metadata": {},
   "outputs": [],
   "source": [
    "#cols = total.shape[1]\n",
    "all_tiles = list(combinations(header,2))\n",
    "all_ind = list(combinations(range(len(header)),2))\n",
    "num = len(all_tiles)\n",
    "total = np.asarray(data)"
   ]
  },
  {
   "cell_type": "code",
   "execution_count": 41,
   "metadata": {},
   "outputs": [],
   "source": [
    "out = {}\n",
    "out[\"tiles\"]= {}\n",
    "tiles = out[\"tiles\"]\n",
    "for i in range(num):\n",
    "    cur_key = '/'.join(list(all_tiles[i]))\n",
    "    \n",
    "    tiles[cur_key]={}\n",
    "    tiles[cur_key][\"dim\"] = list(all_tiles[i])\n",
    "    \n",
    "    cur_ind = list(all_ind[i])\n",
    "    cur_data = total[:,cur_ind]\n",
    "    H, edges = np.histogramdd(cur_data, bins = (total_bin, total_bin))\n",
    "    tiles[cur_key][\"tile\"] = (H/len(data)).tolist()\n",
    "    tiles[cur_key][\"mark\"] = [edge.tolist() for edge in edges]\n",
    "\n",
    "all_range = {}\n",
    "for keys in header:\n",
    "    for i in tiles.values():\n",
    "        for idx, val in enumerate(i[\"dim\"]):\n",
    "            if val == keys:\n",
    "                all_range[val] = [i[\"mark\"][idx][0],i[\"mark\"][idx][-1]]\n",
    "out[\"range\"]=all_range\n",
    "out[\"dims\"]=header\n",
    "with open('multi_tiles_50.json', 'w') as outfile:  \n",
    "    json.dump(out, outfile)"
   ]
  },
  {
   "cell_type": "code",
   "execution_count": 37,
   "metadata": {},
   "outputs": [],
   "source": [
    "r = np.random.randn(1000000000,3)\n",
    "H,e = np.histogramdd(r[:,0:2], bins = (total_bin, total_bin))\n"
   ]
  },
  {
   "cell_type": "markdown",
   "metadata": {},
   "source": [
    "Create 3D data tiles that cover interaction between all dimensions"
   ]
  },
  {
   "cell_type": "code",
   "execution_count": 3,
   "metadata": {},
   "outputs": [],
   "source": [
    "#cols = total.shape[1]\n",
    "all_tiles = list(combinations(header,3))\n",
    "all_ind = list(combinations(range(len(header)),3))\n",
    "num = len(all_tiles)\n",
    "total = np.asarray(data)"
   ]
  },
  {
   "cell_type": "code",
   "execution_count": 4,
   "metadata": {},
   "outputs": [],
   "source": [
    "r = np.random.randn(100,3)\n",
    "tiles = {}\n",
    "for i in range(num):\n",
    "    cur_key = '/'.join(list(all_tiles[i]))\n",
    "    \n",
    "    tiles[cur_key]={}\n",
    "    tiles[cur_key][\"dim\"] = list(all_tiles[i])\n",
    "    \n",
    "    cur_ind = list(all_ind[i])\n",
    "    cur_data = total[:,cur_ind]\n",
    "    H, edges = np.histogramdd(cur_data, bins = (total_bin, total_bin, total_bin))\n",
    "    tiles[cur_key][\"tile\"] = H.tolist()\n",
    "    tiles[cur_key][\"mark\"] = [edge.tolist() for edge in edges]\n",
    "with open('multi_tiles_100.json', 'w') as outfile:  \n",
    "    json.dump(tiles, outfile)"
   ]
  },
  {
   "cell_type": "markdown",
   "metadata": {},
   "source": [
    "Normalization"
   ]
  },
  {
   "cell_type": "code",
   "execution_count": 37,
   "metadata": {},
   "outputs": [],
   "source": [
    "# cols = total.shape[1]\n",
    "# #Normalize First! \n",
    "# total_normed = (total- total.min(axis=0))/ (total.max(axis=0)-total.min(axis=0))"
   ]
  },
  {
   "cell_type": "markdown",
   "metadata": {},
   "source": [
    "Progressive Interpolation"
   ]
  },
  {
   "cell_type": "code",
   "execution_count": 69,
   "metadata": {},
   "outputs": [
    {
     "name": "stdout",
     "output_type": "stream",
     "text": [
      "[ 0.     0.125  0.25   0.375  0.5    0.625  0.75   0.875]\n",
      "[ 0.     0.125  0.25   0.375  0.5    0.625  0.75   0.875]\n",
      "[ 0.     0.125  0.25   0.375  0.5    0.625  0.75   0.875]\n",
      "[ 0.     0.125  0.25   0.375  0.5    0.625  0.75   0.875]\n"
     ]
    }
   ],
   "source": [
    "# cur_arr = np.array([])\n",
    "# cur_mark = np.array([])\n",
    "# for i in range(cols-1):\n",
    "#     step = np.linspace(0, 1, num=interp+1, endpoint = False)\n",
    "#     print step\n",
    "#     #print step\n",
    "#     for val in step:\n",
    "#         #print val\n",
    "#         #print val*total_normed[:,i]+(1-val)*total_normed[:,i+1]\n",
    "#         cur_bin, cur_range = np.histogram(val*total_normed[:,i]+(1-val)*total_normed[:,i+1], bins = total_bin)\n",
    "#         #print cur_arr\n",
    "#         #print cur_bin\n",
    "#         ##cur_arr = np.concatenate((cur_arr, cur_bin.T), axis=1) if cur_arr.size is not 0 else cur_bin.T\n",
    "#         cur_arr = np.vstack((cur_arr, cur_bin)) if cur_arr.size is not 0 else cur_bin\n",
    "#         cur_mark = np.vstack((cur_mark, cur_range)) if cur_mark.size is not 0 else cur_range\n",
    "\n",
    "# cur_bin, cur_range = np.histogram(total_normed[:,-1], bins = total_bin)\n",
    "# #print cur_bin\n",
    "# cur_arr = np.vstack((cur_arr, cur_bin))\n",
    "# cur_mark = np.vstack((cur_mark, cur_range)) "
   ]
  },
  {
   "cell_type": "code",
   "execution_count": null,
   "metadata": {},
   "outputs": [],
   "source": []
  },
  {
   "cell_type": "code",
   "execution_count": 72,
   "metadata": {},
   "outputs": [
    {
     "data": {
      "image/png": "[encoded data removed]",
      "text/plain": [
       "<matplotlib.figure.Figure at 0x7f1d4c702e50>"
      ]
     },
     "metadata": {},
     "output_type": "display_data"
    }
   ],
   "source": [
    "cur_mark\n",
    "#np.linspace(0, 1, num=interp+2)\n",
    "#a, b = np.histogram(total_normed[:,1], bins=total_bin)\n",
    "\n",
    "import matplotlib.pyplot as plt\n",
    "plt.plot(cur_mark.T)\n",
    "#plt.ylabel('some numbers')\n",
    "plt.show()"
   ]
  },
  {
   "cell_type": "code",
   "execution_count": 10,
   "metadata": {},
   "outputs": [
    {
     "ename": "ValueError",
     "evalue": "all the input array dimensions except for the concatenation axis must match exactly",
     "output_type": "error",
     "traceback": [
      "\u001b[0;31m---------------------------------------------------------------------------\u001b[0m",
      "\u001b[0;31mValueError\u001b[0m                                Traceback (most recent call last)",
      "\u001b[0;32m<ipython-input-10-0a3c2a2b64c1>\u001b[0m in \u001b[0;36m<module>\u001b[0;34m()\u001b[0m\n\u001b[1;32m      1\u001b[0m \u001b[0ma\u001b[0m \u001b[0;34m=\u001b[0m \u001b[0mnp\u001b[0m\u001b[0;34m.\u001b[0m\u001b[0marray\u001b[0m\u001b[0;34m(\u001b[0m\u001b[0;34m(\u001b[0m\u001b[0;36m1\u001b[0m\u001b[0;34m,\u001b[0m\u001b[0;36m2\u001b[0m\u001b[0;34m,\u001b[0m\u001b[0;36m3\u001b[0m\u001b[0;34m)\u001b[0m\u001b[0;34m)\u001b[0m\u001b[0;34m\u001b[0m\u001b[0m\n\u001b[1;32m      2\u001b[0m \u001b[0mb\u001b[0m \u001b[0;34m=\u001b[0m \u001b[0mnp\u001b[0m\u001b[0;34m.\u001b[0m\u001b[0marray\u001b[0m\u001b[0;34m(\u001b[0m\u001b[0;34m[\u001b[0m\u001b[0;34m]\u001b[0m\u001b[0;34m)\u001b[0m\u001b[0;34m\u001b[0m\u001b[0m\n\u001b[0;32m----> 3\u001b[0;31m \u001b[0mnp\u001b[0m\u001b[0;34m.\u001b[0m\u001b[0mcolumn_stack\u001b[0m\u001b[0;34m(\u001b[0m\u001b[0;34m(\u001b[0m\u001b[0ma\u001b[0m\u001b[0;34m,\u001b[0m\u001b[0mb\u001b[0m\u001b[0;34m)\u001b[0m\u001b[0;34m)\u001b[0m\u001b[0;34m\u001b[0m\u001b[0m\n\u001b[0m",
      "\u001b[0;32m/Users/wang110/anaconda2/envs/nddav/lib/python2.7/site-packages/numpy/lib/shape_base.pyc\u001b[0m in \u001b[0;36mcolumn_stack\u001b[0;34m(tup)\u001b[0m\n\u001b[1;32m    367\u001b[0m             \u001b[0marr\u001b[0m \u001b[0;34m=\u001b[0m \u001b[0marray\u001b[0m\u001b[0;34m(\u001b[0m\u001b[0marr\u001b[0m\u001b[0;34m,\u001b[0m \u001b[0mcopy\u001b[0m\u001b[0;34m=\u001b[0m\u001b[0mFalse\u001b[0m\u001b[0;34m,\u001b[0m \u001b[0msubok\u001b[0m\u001b[0;34m=\u001b[0m\u001b[0mTrue\u001b[0m\u001b[0;34m,\u001b[0m \u001b[0mndmin\u001b[0m\u001b[0;34m=\u001b[0m\u001b[0;36m2\u001b[0m\u001b[0;34m)\u001b[0m\u001b[0;34m.\u001b[0m\u001b[0mT\u001b[0m\u001b[0;34m\u001b[0m\u001b[0m\n\u001b[1;32m    368\u001b[0m         \u001b[0marrays\u001b[0m\u001b[0;34m.\u001b[0m\u001b[0mappend\u001b[0m\u001b[0;34m(\u001b[0m\u001b[0marr\u001b[0m\u001b[0;34m)\u001b[0m\u001b[0;34m\u001b[0m\u001b[0m\n\u001b[0;32m--> 369\u001b[0;31m     \u001b[0;32mreturn\u001b[0m \u001b[0m_nx\u001b[0m\u001b[0;34m.\u001b[0m\u001b[0mconcatenate\u001b[0m\u001b[0;34m(\u001b[0m\u001b[0marrays\u001b[0m\u001b[0;34m,\u001b[0m \u001b[0;36m1\u001b[0m\u001b[0;34m)\u001b[0m\u001b[0;34m\u001b[0m\u001b[0m\n\u001b[0m\u001b[1;32m    370\u001b[0m \u001b[0;34m\u001b[0m\u001b[0m\n\u001b[1;32m    371\u001b[0m \u001b[0;32mdef\u001b[0m \u001b[0mdstack\u001b[0m\u001b[0;34m(\u001b[0m\u001b[0mtup\u001b[0m\u001b[0;34m)\u001b[0m\u001b[0;34m:\u001b[0m\u001b[0;34m\u001b[0m\u001b[0m\n",
      "\u001b[0;31mValueError\u001b[0m: all the input array dimensions except for the concatenation axis must match exactly"
     ]
    }
   ],
   "source": [
    "a = np.array((1,2,3))\n",
    "b = np.array([])\n",
    "np.column_stack((a,b))\n"
   ]
  },
  {
   "cell_type": "code",
   "execution_count": 1,
   "metadata": {},
   "outputs": [],
   "source": [
    "# cols = total.shape[1]\n",
    "# #Normalize First! \n",
    "# total_normed = (total- total.min(axis=0))/ (total.max(axis=0)-total.min(axis=0))"
   ]
  },
  {
   "cell_type": "markdown",
   "metadata": {},
   "source": [
    "Get Joint Histogram between each two dimensions\n",
    "Area between every other bins in the PC"
   ]
  }
 ],
 "metadata": {
  "kernelspec": {
   "display_name": "Python 2",
   "language": "python",
   "name": "python2"
  },
  "language_info": {
   "codemirror_mode": {
    "name": "ipython",
    "version": 2
   },
   "file_extension": ".py",
   "mimetype": "text/x-python",
   "name": "python",
   "nbconvert_exporter": "python",
   "pygments_lexer": "ipython2",
   "version": "2.7.15"
  }
 },
 "nbformat": 4,
 "nbformat_minor": 2
}
